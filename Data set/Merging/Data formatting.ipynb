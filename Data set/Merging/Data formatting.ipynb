{
 "cells": [
  {
   "cell_type": "code",
   "execution_count": 15,
   "id": "3281e4dd",
   "metadata": {},
   "outputs": [],
   "source": [
    "import pandas as pd\n",
    "import os\n"
   ]
  },
  {
   "cell_type": "code",
   "execution_count": 16,
   "id": "f05dd349",
   "metadata": {},
   "outputs": [],
   "source": [
    "directory_path = 'C:/Users/Adil'\n",
    "csv_files = [f for f in os.listdir(directory_path) if f.endswith('.csv')]\n"
   ]
  },
  {
   "cell_type": "code",
   "execution_count": 17,
   "id": "0214e269",
   "metadata": {},
   "outputs": [],
   "source": [
    "common_column = \"country\"\n",
    "merged_data = pd.DataFrame()\n"
   ]
  },
  {
   "cell_type": "code",
   "execution_count": 18,
   "id": "0753b447",
   "metadata": {},
   "outputs": [],
   "source": [
    "for file in csv_files:\n",
    "    file_path = os.path.join(directory_path, file)\n",
    "    data = pd.read_csv(file_path)\n",
    "    \n",
    "    if merged_data.empty:\n",
    "        merged_data = data\n",
    "    else:\n",
    "        merged_data = pd.merge(merged_data, data, on=common_column, how='inner')\n"
   ]
  },
  {
   "cell_type": "code",
   "execution_count": 20,
   "id": "147a4ebf",
   "metadata": {},
   "outputs": [],
   "source": [
    "merged_data.to_csv('C:/Users/Adil/merged_data.csv', index=False)\n"
   ]
  },
  {
   "cell_type": "code",
   "execution_count": null,
   "id": "c4a7824f",
   "metadata": {},
   "outputs": [],
   "source": []
  }
 ],
 "metadata": {
  "kernelspec": {
   "display_name": "Python 3 (ipykernel)",
   "language": "python",
   "name": "python3"
  },
  "language_info": {
   "codemirror_mode": {
    "name": "ipython",
    "version": 3
   },
   "file_extension": ".py",
   "mimetype": "text/x-python",
   "name": "python",
   "nbconvert_exporter": "python",
   "pygments_lexer": "ipython3",
   "version": "3.11.4"
  }
 },
 "nbformat": 4,
 "nbformat_minor": 5
}
